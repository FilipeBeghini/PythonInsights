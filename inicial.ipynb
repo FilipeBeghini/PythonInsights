{
 "cells": [
  {
   "cell_type": "markdown",
   "metadata": {},
   "source": [
    "# Python Insights - Analyzing Data with Python\n",
    "\n",
    "### Case - Customer Cancellation\n",
    "\n",
    "You have been hired by a company with over 800,000 customers for a Data project. Recently, the company noticed that, from its total customer base, most are inactive customers, meaning they have already canceled the service.\n",
    "\n",
    "To improve its results, the company wants to understand the main reasons for these cancellations and what the most effective actions are to reduce this number.\n",
    "\n",
    "Database and files: https://drive.google.com/drive/folders/1uDesZePdkhiraJmiyeZ-w5tfc8XsNYFZ?usp=drive_link"
   ]
  },
  {
   "cell_type": "code",
   "execution_count": null,
   "metadata": {},
   "outputs": [],
   "source": []
  }
 ],
 "metadata": {
  "kernelspec": {
   "display_name": "base",
   "language": "python",
   "name": "python3"
  },
  "language_info": {
   "codemirror_mode": {
    "name": "ipython",
    "version": 3
   },
   "file_extension": ".py",
   "mimetype": "text/x-python",
   "name": "python",
   "nbconvert_exporter": "python",
   "pygments_lexer": "ipython3",
   "version": "3.10.9"
  },
  "orig_nbformat": 4
 },
 "nbformat": 4,
 "nbformat_minor": 2
}
